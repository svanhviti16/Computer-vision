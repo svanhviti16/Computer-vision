{
 "cells": [
  {
   "cell_type": "markdown",
   "metadata": {},
   "source": [
    "# Computer Vision Challenge"
   ]
  },
  {
   "cell_type": "markdown",
   "metadata": {},
   "source": [
    "### List your projects with repository url"
   ]
  },
  {
   "cell_type": "markdown",
   "metadata": {},
   "source": [
    "1. [Lane detection for self-driving cars](https://github.com/svanhviti16/Computer-vision/blob/master/my_projects/self-driving/Self-driving_cars_lane-detection.ipynb)\n",
    "2. [Ball tracker](https://github.com/svanhviti16/Computer-vision/blob/master/my_projects/Ball%20Tracker.ipynb)\n",
    "3. [Handwritten digits recognition using own pictures](https://github.com/svanhviti16/Computer-vision/blob/master/my_projects/Handwriting_recognition.ipynb)\n",
    "4. [Identifier for triangles, rectangles and polygons](https://github.com/svanhviti16/Computer-vision/blob/master/my_projects/Identify_shapes.ipynb)\n",
    "5. [Example Project 2](http://www.github.com/abc)\n",
    "6. [Example Project 2](http://www.github.com/abc)"
   ]
  },
  {
   "cell_type": "markdown",
   "metadata": {},
   "source": [
    "### List your new Computer Vision skills, usages and importance"
   ]
  },
  {
   "cell_type": "markdown",
   "metadata": {},
   "source": [
    "1. Skill 1: use cases, it is important to...\n",
    "1. Skill 2: ..."
   ]
  },
  {
   "cell_type": "markdown",
   "metadata": {},
   "source": [
    "### In class contributions"
   ]
  },
  {
   "cell_type": "markdown",
   "metadata": {},
   "source": [
    "1. Participated in the 'xyz' challenge\n",
    "1. Presented 'my xyz' project to my class mates\n",
    "1. Actively helped classmates with 'xyz' tasks,\n",
    "1. ...."
   ]
  },
  {
   "cell_type": "markdown",
   "metadata": {},
   "source": [
    "### Anything else you would like to add or share?"
   ]
  },
  {
   "cell_type": "markdown",
   "metadata": {},
   "source": []
  }
 ],
 "metadata": {
  "kernelspec": {
   "display_name": "Python 3",
   "language": "python",
   "name": "python3"
  },
  "language_info": {
   "codemirror_mode": {
    "name": "ipython",
    "version": 3
   },
   "file_extension": ".py",
   "mimetype": "text/x-python",
   "name": "python",
   "nbconvert_exporter": "python",
   "pygments_lexer": "ipython3",
   "version": "3.7.3"
  }
 },
 "nbformat": 4,
 "nbformat_minor": 2
}
