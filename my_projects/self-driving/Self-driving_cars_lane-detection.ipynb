{
 "cells": [
  {
   "cell_type": "code",
   "execution_count": 12,
   "metadata": {},
   "outputs": [],
   "source": [
    "import cv2\n",
    "import numpy as np\n",
    "import matplotlib.pyplot as plt\n",
    "%matplotlib inline"
   ]
  },
  {
   "cell_type": "code",
   "execution_count": 13,
   "metadata": {},
   "outputs": [],
   "source": [
    "def showImg(img, title = ''):\n",
    "    plt.figure(figsize = (20,15));\n",
    "    plt.title(title)\n",
    "    plt.imshow(cv2.cvtColor(img,cv2.COLOR_BGR2RGB))\n",
    "\n",
    "def showGrayScaleImg(img, title = ''):\n",
    "    plt.figure(figsize = (20,15));\n",
    "    plt.title(title)\n",
    "    plt.imshow(img, cmap='gray')\n"
   ]
  },
  {
   "cell_type": "code",
   "execution_count": 14,
   "metadata": {},
   "outputs": [],
   "source": [
    "pts = np.array([[80,550],[480,300],[1000,550]], np.int32)"
   ]
  },
  {
   "cell_type": "code",
   "execution_count": null,
   "metadata": {},
   "outputs": [],
   "source": [
    "# Read image \n",
    "img = cv2.imread('Videos/test_images/solidWhiteCurve.jpg')\n",
    "\n",
    "\n",
    "# Convert the image to gray-scale\n",
    "gray = cv2.cvtColor(img, cv2.COLOR_BGR2GRAY)\n",
    "\n",
    "canvas = np.zeros((gray.shape[0],gray.shape[1]), np.uint8)\n",
    "\n",
    "#pts = np.array([[80,550],[500,300],[1000,550]], np.int32)\n",
    "#triangle = cv2.cvtColor(img, cv2.COLOR_BGR2GRAY)\n",
    "\n",
    "gray_copy = gray.copy()\n",
    "\n",
    "ignore_mask_color = 255\n",
    "\n",
    "triangle = cv2.fillPoly(canvas, [pts], ignore_mask_color)\n",
    "#showGrayScaleImg(triangle)\n",
    "\n",
    "and_operation = cv2.bitwise_and(triangle, gray)\n",
    "\n",
    "showGrayScaleImg(and_operation)\n",
    "\n",
    "# Find the edges in the image using canny detector\n",
    "#blur = cv2.GaussianBlur(and_operation,(7,7),-1)\n",
    "ret,thresh = cv2.threshold(and_operation,127,255,cv2.THRESH_BINARY)\n",
    "\n",
    "showGrayScaleImg(thresh, \"BLUR\")\n",
    "\n",
    "edges = cv2.Canny(thresh, 200, 255)\n",
    "# Detect points that form a line\n",
    "lines = cv2.HoughLinesP(edges, 1, np.pi/180, 10, minLineLength=100, maxLineGap=250)\n",
    "# Draw lines on the image\n",
    "for line in lines[:5]:\n",
    "    x1, y1, x2, y2 = line[0]\n",
    "    cv2.line(img, (x1, y1), (x2, y2), (255, 0, 0), 3)\n",
    "# Show result\n",
    "showGrayScaleImg(edges, \"EDGES\")\n",
    "showImg(img, \"Result Image\")\n",
    "\n"
   ]
  },
  {
   "cell_type": "code",
   "execution_count": 15,
   "metadata": {},
   "outputs": [
    {
     "data": {
      "text/plain": [
       "-1"
      ]
     },
     "execution_count": 15,
     "metadata": {},
     "output_type": "execute_result"
    }
   ],
   "source": [
    "#cap = cv2.VideoCapture(\"Videos/solidWhiteRight.mp4\")\n",
    "cap = cv2.VideoCapture(\"Videos/solidYellowLeft.mp4\")\n",
    "\n",
    "while(True):\n",
    "    #capture frame-by-frame\n",
    "    ret, frame = cap.read()\n",
    "    # Convert the image to gray-scale\n",
    "    gray = cv2.cvtColor(frame, cv2.COLOR_BGR2GRAY)\n",
    "\n",
    "    canvas = np.zeros((gray.shape[0],gray.shape[1]), np.uint8)\n",
    "\n",
    "    #pts = np.array([[80,550],[500,300],[1000,550]], np.int32)\n",
    "    #triangle = cv2.cvtColor(img, cv2.COLOR_BGR2GRAY)\n",
    "\n",
    "    ignore_mask_color = 255\n",
    "\n",
    "    triangle = cv2.fillPoly(canvas, [pts], ignore_mask_color)\n",
    "\n",
    "    and_operation = cv2.bitwise_and(triangle, gray)\n",
    "\n",
    "    ret,thresh = cv2.threshold(and_operation,127,255,cv2.THRESH_BINARY)\n",
    "\n",
    "    edges = cv2.Canny(thresh, 200, 255)\n",
    "    # Detect points that form a line\n",
    "    \n",
    "    overlay = frame.copy()\n",
    "   \n",
    "    lines = cv2.HoughLinesP(edges, 1, np.pi/180, 10, minLineLength=80, maxLineGap=200)\n",
    "    # Draw lines on the image\n",
    "    for line in lines[:5]:\n",
    "        x1, y1, x2, y2 = line[0]\n",
    "        cv2.line(frame, (x1, y1), (x2, y2), (0, 255, 0), 6)\n",
    "    \n",
    "    opacity = 0.4\n",
    "    cv2.addWeighted(overlay, opacity, frame, 1-opacity, 0, frame)\n",
    "\n",
    "\n",
    "    frame = frame.astype('uint8')\n",
    "\n",
    "    #Display the resulting frame\n",
    "    cv2.imshow('Video, press \\'q\\' to close', frame)\n",
    "    if cv2.waitKey(1) & 0xFF == ord('q'):\n",
    "        break\n",
    "\n",
    "cap.release()\n",
    "cv2.destroyAllWindows()\n",
    "cv2.waitKey(1)"
   ]
  },
  {
   "cell_type": "code",
   "execution_count": null,
   "metadata": {},
   "outputs": [],
   "source": []
  },
  {
   "cell_type": "code",
   "execution_count": null,
   "metadata": {},
   "outputs": [],
   "source": []
  }
 ],
 "metadata": {
  "kernelspec": {
   "display_name": "Python (akademy-downgrade)",
   "language": "python",
   "name": "akademy-downgrade"
  },
  "language_info": {
   "codemirror_mode": {
    "name": "ipython",
    "version": 3
   },
   "file_extension": ".py",
   "mimetype": "text/x-python",
   "name": "python",
   "nbconvert_exporter": "python",
   "pygments_lexer": "ipython3",
   "version": "3.6.9"
  }
 },
 "nbformat": 4,
 "nbformat_minor": 2
}
