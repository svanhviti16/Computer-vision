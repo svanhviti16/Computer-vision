{
 "cells": [
  {
   "cell_type": "markdown",
   "metadata": {},
   "source": [
    "# Blue/green ball tracker\n",
    "\n",
    "The function ``track_ball_video`` isolates and tracks blue and green objects simultanously on video. Use M&Ms or any other blue and green objects."
   ]
  },
  {
   "cell_type": "code",
   "execution_count": 1,
   "metadata": {},
   "outputs": [],
   "source": [
    "import cv2\n",
    "import numpy as np\n",
    "import matplotlib.pyplot as plt\n",
    "%matplotlib inline"
   ]
  },
  {
   "cell_type": "code",
   "execution_count": 8,
   "metadata": {},
   "outputs": [],
   "source": [
    "def track_ball_video():\n",
    "    cap = cv2.VideoCapture(0)\n",
    "\n",
    "    while(True):\n",
    "        #capture frame-by-frame\n",
    "        ret, frame = cap.read()\n",
    "        hsv = cv2.cvtColor(frame, cv2.COLOR_BGR2HSV)\n",
    "\n",
    "        green_lower = (29, 30, 0)\n",
    "        green_upper = (80, 255, 255)\n",
    "\n",
    "        green_mask = cv2.inRange(hsv, green_lower, green_upper)\n",
    "        green_mask = cv2.erode(green_mask, None, iterations=2)\n",
    "        green_mask = cv2.dilate(green_mask, None, iterations=2)\n",
    "        \n",
    "        blue_lower = (100, 30, 0)\n",
    "        blue_upper = (132, 255, 255)\n",
    "\n",
    "        blue_mask = cv2.inRange(hsv, blue_lower, blue_upper)\n",
    "        blue_mask = cv2.erode(blue_mask, None, iterations=2)\n",
    "        blue_mask = cv2.dilate(blue_mask, None, iterations=2)\n",
    "    \n",
    "        lower_red = np.array([0,120,0])\n",
    "        upper_red = np.array([10,255,255])\n",
    "        lower_red2 = np.array([170,220,0])\n",
    "        upper_red2 = np.array([180,255,255])\n",
    "\n",
    "        red_mask1 = cv2.inRange(hsv, lower_red, upper_red)\n",
    "        red_mask1 = cv2.erode(red_mask1, None, iterations=2)\n",
    "        red_mask1 = cv2.dilate(red_mask1, None, iterations=2)\n",
    "\n",
    "        red_mask2 = cv2.inRange(hsv, lower_red2, upper_red2)\n",
    "        red_mask2 = cv2.erode(red_mask2, None, iterations=2)\n",
    "        red_mask2 = cv2.dilate(red_mask2, None, iterations=2)\n",
    "\n",
    "        red_mask = red_mask1 + red_mask2\n",
    "                \n",
    "        # combining blue and green masks\n",
    "        blue_green_mask = blue_mask + green_mask\n",
    "\n",
    "        # combining red with blue and green\n",
    "        rgb_mask = red_mask + blue_green_mask\n",
    "        \n",
    "        masked = np.copy(frame)\n",
    "        masked[rgb_mask == 0] = [0,0,0] \n",
    "\n",
    "        #our operations  on the frame come here\n",
    "        img = cv2.cvtColor(frame, cv2.COLOR_BGR2GRAY)\n",
    "        img = img.astype('uint8')\n",
    "\n",
    "        #Display the resulting frame\n",
    "        cv2.imshow('Video, press \\'q\\' to close', masked)\n",
    "        if cv2.waitKey(1) & 0xFF == ord('q'):\n",
    "            break\n",
    "        \n",
    "    cap.release()\n",
    "    cv2.destroyAllWindows()\n",
    "    cv2.waitKey(1)"
   ]
  },
  {
   "cell_type": "code",
   "execution_count": 9,
   "metadata": {},
   "outputs": [],
   "source": [
    "track_ball_video()"
   ]
  },
  {
   "cell_type": "code",
   "execution_count": null,
   "metadata": {},
   "outputs": [],
   "source": []
  }
 ],
 "metadata": {
  "kernelspec": {
   "display_name": "Python (akademy-downgrade)",
   "language": "python",
   "name": "akademy-downgrade"
  },
  "language_info": {
   "codemirror_mode": {
    "name": "ipython",
    "version": 3
   },
   "file_extension": ".py",
   "mimetype": "text/x-python",
   "name": "python",
   "nbconvert_exporter": "python",
   "pygments_lexer": "ipython3",
   "version": "3.6.9"
  }
 },
 "nbformat": 4,
 "nbformat_minor": 2
}
